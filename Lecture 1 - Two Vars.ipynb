{
 "cells": [
  {
   "cell_type": "code",
   "execution_count": 1,
   "metadata": {},
   "outputs": [],
   "source": [
    "import numpy as np\n",
    "import matplotlib.pyplot as plt\n",
    "from mpl_toolkits.mplot3d import Axes3D\n",
    "import plotly.graph_objs as go"
   ]
  },
  {
   "cell_type": "code",
   "execution_count": 2,
   "metadata": {},
   "outputs": [
    {
     "data": {
      "text/plain": [
       "array([[ 2, -1],\n",
       "       [-1,  2]])"
      ]
     },
     "execution_count": 2,
     "metadata": {},
     "output_type": "execute_result"
    }
   ],
   "source": [
    "matrix_A = np.array(([2,-1],[-1,2]))\n",
    "matrix_A"
   ]
  },
  {
   "cell_type": "markdown",
   "metadata": {},
   "source": [
    "# What does it mean to extend a line?"
   ]
  },
  {
   "cell_type": "code",
   "execution_count": 3,
   "metadata": {},
   "outputs": [],
   "source": [
    "def extend_line(A,B,length_to_extend):\n",
    "    v = B-A\n",
    "    v_bar = np.sqrt(np.sum((B-A)**2))\n",
    "    v_hat = v/v_bar\n",
    "    \n",
    "    b_dash = B+ length_to_extend*v_hat\n",
    "    a_dash = A- length_to_extend*v_hat\n",
    "    \n",
    "    x1,x2= a_dash[0],b_dash[0]\n",
    "    y1,y2 = a_dash[1],b_dash[1]\n",
    "    return (x1,x2),(y1,y2)"
   ]
  },
  {
   "cell_type": "markdown",
   "metadata": {},
   "source": [
    "# Row Picture"
   ]
  },
  {
   "cell_type": "code",
   "execution_count": 4,
   "metadata": {},
   "outputs": [
    {
     "data": {
      "image/png": "[encoded data removed]",
      "text/plain": [
       "<Figure size 432x288 with 1 Axes>"
      ]
     },
     "metadata": {
      "needs_background": "light"
     },
     "output_type": "display_data"
    }
   ],
   "source": [
    "x_1 = [0,1]\n",
    "y_1 = [0,2]\n",
    "\n",
    "x_2 = [-3,-1]\n",
    "y_2 = [0,1]\n",
    "\n",
    "(nx1,nx2),(ny1,ny2) = extend_line(np.array([0,0]),np.array([1,2]),3)\n",
    "(nx12,nx22),(ny12,ny22) = extend_line(np.array([-3,0]),np.array([-1,1]),3)\n",
    "\n",
    "plt.plot((nx1,nx2),(ny1,ny2) ,'--',color='orange')\n",
    "plt.plot(x_1,y_1,'-o',label = \"line that solves equation 1\",color='orange')\n",
    "plt.plot((nx12,nx22),(ny12,ny22) ,'--',color='blue')\n",
    "plt.plot(x_2,y_2,'-o',label = \"line that solves equation 2\",color='blue')\n",
    "plt.legend()\n",
    "plt.show()"
   ]
  },
  {
   "cell_type": "markdown",
   "metadata": {},
   "source": [
    "# Column Picture"
   ]
  },
  {
   "cell_type": "code",
   "execution_count": 5,
   "metadata": {},
   "outputs": [],
   "source": [
    "vector1 = matrix_A[:,0]"
   ]
  },
  {
   "cell_type": "code",
   "execution_count": 6,
   "metadata": {},
   "outputs": [],
   "source": [
    "vector2 = matrix_A[:,1]"
   ]
  },
  {
   "cell_type": "code",
   "execution_count": 7,
   "metadata": {},
   "outputs": [],
   "source": [
    "def plot_vector(vector,vector_name,line_type='-'):\n",
    "    plt.plot([0,vector[0]],[0,vector[1]],line_type,label=vector_name,color='blue')\n",
    "    \n",
    "def plot_vector_sum(v1,v2,x,y,plot_process=True):\n",
    "    if plot_process:\n",
    "        plt.plot([0,x*v1[0]],[0,x*v1[1]],'--',label=\"v1\")\n",
    "        #x coordinates have to be the y cordinate of vector 1\n",
    "        #y coordinate is shifted+scaling\n",
    "        plt.plot([0,y*v2[0]] + x*v1[0] ,[0,y*v2[1]] + x*v1[1],'--',label=\"v2\")\n",
    "    plot_vector(x*v1+y*v2,\"v1+v2\",)"
   ]
  },
  {
   "cell_type": "code",
   "execution_count": null,
   "metadata": {},
   "outputs": [],
   "source": []
  }
 ],
 "metadata": {
  "kernelspec": {
   "display_name": "Python 3",
   "language": "python",
   "name": "python3"
  },
  "language_info": {
   "codemirror_mode": {
    "name": "ipython",
    "version": 3
   },
   "file_extension": ".py",
   "mimetype": "text/x-python",
   "name": "python",
   "nbconvert_exporter": "python",
   "pygments_lexer": "ipython3",
   "version": "3.8.3"
  }
 },
 "nbformat": 4,
 "nbformat_minor": 4
}
